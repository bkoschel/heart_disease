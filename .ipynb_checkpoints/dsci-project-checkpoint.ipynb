{
 "cells": [
  {
   "cell_type": "markdown",
   "id": "15e557ed-de41-4ec0-b19b-6f50cb6b5976",
   "metadata": {},
   "source": [
    "# DSCI 100 Project Report: Heart Disease and Age, Sex, and Cholesterol Levels"
   ]
  },
  {
   "cell_type": "markdown",
   "id": "cd94c1ae-900a-4b67-b1d8-1cac740f4212",
   "metadata": {},
   "source": [
    "#### Beth Koschel, "
   ]
  },
  {
   "cell_type": "markdown",
   "id": "c7de712a-f668-441f-b60d-ad79a4d6ff6c",
   "metadata": {},
   "source": [
    "## Introduction"
   ]
  },
  {
   "cell_type": "markdown",
   "id": "4af57d69-49cd-4cd5-8e95-a06bfd319e65",
   "metadata": {},
   "source": [
    "**Background:** Heart disease is a term that encompasses several different types of heart conditions(1). The most common condition is know as coronary artery disease (CAD) which can lead to decreased blood flow to the heart resulting in a heart attack (1). As a prominent cause of mortality in Canada, heart disease underscores the significance of investigating factors that may contribute to its development (2).\n",
    "\n",
    "**Question:** We want to know if age, sex, and cholesterol levels might play a role in the presence or absence of heart disease.\n",
    "\n",
    "**ID and Describe the dataset used:** The dataset we are using to answer this question is heart disease dataset from the Cleveland provided to us through the UC Irvine Machine Learning Repository (3). It contains 14 attributes including age, sex, a chest pain scale, resting blood pressure, serum cholesterol, fasting blood sugar levels, resting electrocardiograph results, maximum heart rate achieved, exercise induced angina, ST depression induced by exercise relative to rest, the slope of the peak exercise ST segment, number of major vessels (0-3) colored by fluoroscopy, and diagnosis of heart disease."
   ]
  },
  {
   "cell_type": "markdown",
   "id": "36f44146-e10a-4a53-aa7a-9e1c43971a0b",
   "metadata": {},
   "source": [
    "## Methods"
   ]
  },
  {
   "cell_type": "markdown",
   "id": "69252fdf-11f8-4a88-9eba-fb4004a4ca6e",
   "metadata": {},
   "source": [
    "#### Preprocessing"
   ]
  },
  {
   "cell_type": "markdown",
   "id": "c6579061-886a-46ab-b0b2-ebac5cf3ba8a",
   "metadata": {},
   "source": [
    "EDIT THIS:\n",
    "Imported libraries and processed.cleveland.data dataset from the internet.\n",
    "\n",
    "Cleaned and tidied data to make it usable, by assigning column types and adding a new column, diag.\n",
    "\n",
    "Split the data into training and testing sets, working only with the training set until the very end.\n",
    "\n",
    "Summarized the training set to make predictions about how we want our classifier to work.\n",
    "\n",
    "Visualized the relationship between thalac and chol to get a deeper understanding of how the data is distributed."
   ]
  },
  {
   "cell_type": "markdown",
   "id": "1250225b-2070-4998-9e58-4c8f138f38aa",
   "metadata": {},
   "source": [
    "##### Importing Libraries"
   ]
  },
  {
   "cell_type": "code",
   "execution_count": 52,
   "id": "083ceda7-2684-4081-87e1-d8bb9d76defc",
   "metadata": {
    "tags": []
   },
   "outputs": [],
   "source": [
    "# importing libraries\n",
    "library(tidyverse)\n",
    "library(tidymodels)\n",
    "library(repr)\n",
    "library(RColorBrewer)\n"
   ]
  },
  {
   "cell_type": "markdown",
   "id": "569192db-a638-4cf3-9580-3d30dc847b4f",
   "metadata": {},
   "source": [
    "##### Importing the Data"
   ]
  },
  {
   "cell_type": "markdown",
   "id": "0d4e7dd9-c98d-4a47-84ee-48f95d043071",
   "metadata": {},
   "source": [
    "The read_csv function was used to import the data (processed.cleveland.data)"
   ]
  },
  {
   "cell_type": "code",
   "execution_count": 53,
   "id": "1ff4e58d-3fce-4721-b646-d1172b2591d8",
   "metadata": {
    "tags": []
   },
   "outputs": [
    {
     "name": "stderr",
     "output_type": "stream",
     "text": [
      "\u001b[1mRows: \u001b[22m\u001b[34m303\u001b[39m \u001b[1mColumns: \u001b[22m\u001b[34m14\u001b[39m\n",
      "\u001b[36m──\u001b[39m \u001b[1mColumn specification\u001b[22m \u001b[36m────────────────────────────────────────────────────────\u001b[39m\n",
      "\u001b[1mDelimiter:\u001b[22m \",\"\n",
      "\u001b[31mchr\u001b[39m  (2): X12, X13\n",
      "\u001b[32mdbl\u001b[39m (12): X1, X2, X3, X4, X5, X6, X7, X8, X9, X10, X11, X14\n",
      "\n",
      "\u001b[36mℹ\u001b[39m Use `spec()` to retrieve the full column specification for this data.\n",
      "\u001b[36mℹ\u001b[39m Specify the column types or set `show_col_types = FALSE` to quiet this message.\n"
     ]
    },
    {
     "data": {
      "text/html": [
       "<table class=\"dataframe\">\n",
       "<caption>A tibble: 6 × 14</caption>\n",
       "<thead>\n",
       "\t<tr><th scope=col>X1</th><th scope=col>X2</th><th scope=col>X3</th><th scope=col>X4</th><th scope=col>X5</th><th scope=col>X6</th><th scope=col>X7</th><th scope=col>X8</th><th scope=col>X9</th><th scope=col>X10</th><th scope=col>X11</th><th scope=col>X12</th><th scope=col>X13</th><th scope=col>X14</th></tr>\n",
       "\t<tr><th scope=col>&lt;dbl&gt;</th><th scope=col>&lt;dbl&gt;</th><th scope=col>&lt;dbl&gt;</th><th scope=col>&lt;dbl&gt;</th><th scope=col>&lt;dbl&gt;</th><th scope=col>&lt;dbl&gt;</th><th scope=col>&lt;dbl&gt;</th><th scope=col>&lt;dbl&gt;</th><th scope=col>&lt;dbl&gt;</th><th scope=col>&lt;dbl&gt;</th><th scope=col>&lt;dbl&gt;</th><th scope=col>&lt;chr&gt;</th><th scope=col>&lt;chr&gt;</th><th scope=col>&lt;dbl&gt;</th></tr>\n",
       "</thead>\n",
       "<tbody>\n",
       "\t<tr><td>63</td><td>1</td><td>1</td><td>145</td><td>233</td><td>1</td><td>2</td><td>150</td><td>0</td><td>2.3</td><td>3</td><td>0.0</td><td>6.0</td><td>0</td></tr>\n",
       "\t<tr><td>67</td><td>1</td><td>4</td><td>160</td><td>286</td><td>0</td><td>2</td><td>108</td><td>1</td><td>1.5</td><td>2</td><td>3.0</td><td>3.0</td><td>2</td></tr>\n",
       "\t<tr><td>67</td><td>1</td><td>4</td><td>120</td><td>229</td><td>0</td><td>2</td><td>129</td><td>1</td><td>2.6</td><td>2</td><td>2.0</td><td>7.0</td><td>1</td></tr>\n",
       "\t<tr><td>37</td><td>1</td><td>3</td><td>130</td><td>250</td><td>0</td><td>0</td><td>187</td><td>0</td><td>3.5</td><td>3</td><td>0.0</td><td>3.0</td><td>0</td></tr>\n",
       "\t<tr><td>41</td><td>0</td><td>2</td><td>130</td><td>204</td><td>0</td><td>2</td><td>172</td><td>0</td><td>1.4</td><td>1</td><td>0.0</td><td>3.0</td><td>0</td></tr>\n",
       "\t<tr><td>56</td><td>1</td><td>2</td><td>120</td><td>236</td><td>0</td><td>0</td><td>178</td><td>0</td><td>0.8</td><td>1</td><td>0.0</td><td>3.0</td><td>0</td></tr>\n",
       "</tbody>\n",
       "</table>\n"
      ],
      "text/latex": [
       "A tibble: 6 × 14\n",
       "\\begin{tabular}{llllllllllllll}\n",
       " X1 & X2 & X3 & X4 & X5 & X6 & X7 & X8 & X9 & X10 & X11 & X12 & X13 & X14\\\\\n",
       " <dbl> & <dbl> & <dbl> & <dbl> & <dbl> & <dbl> & <dbl> & <dbl> & <dbl> & <dbl> & <dbl> & <chr> & <chr> & <dbl>\\\\\n",
       "\\hline\n",
       "\t 63 & 1 & 1 & 145 & 233 & 1 & 2 & 150 & 0 & 2.3 & 3 & 0.0 & 6.0 & 0\\\\\n",
       "\t 67 & 1 & 4 & 160 & 286 & 0 & 2 & 108 & 1 & 1.5 & 2 & 3.0 & 3.0 & 2\\\\\n",
       "\t 67 & 1 & 4 & 120 & 229 & 0 & 2 & 129 & 1 & 2.6 & 2 & 2.0 & 7.0 & 1\\\\\n",
       "\t 37 & 1 & 3 & 130 & 250 & 0 & 0 & 187 & 0 & 3.5 & 3 & 0.0 & 3.0 & 0\\\\\n",
       "\t 41 & 0 & 2 & 130 & 204 & 0 & 2 & 172 & 0 & 1.4 & 1 & 0.0 & 3.0 & 0\\\\\n",
       "\t 56 & 1 & 2 & 120 & 236 & 0 & 0 & 178 & 0 & 0.8 & 1 & 0.0 & 3.0 & 0\\\\\n",
       "\\end{tabular}\n"
      ],
      "text/markdown": [
       "\n",
       "A tibble: 6 × 14\n",
       "\n",
       "| X1 &lt;dbl&gt; | X2 &lt;dbl&gt; | X3 &lt;dbl&gt; | X4 &lt;dbl&gt; | X5 &lt;dbl&gt; | X6 &lt;dbl&gt; | X7 &lt;dbl&gt; | X8 &lt;dbl&gt; | X9 &lt;dbl&gt; | X10 &lt;dbl&gt; | X11 &lt;dbl&gt; | X12 &lt;chr&gt; | X13 &lt;chr&gt; | X14 &lt;dbl&gt; |\n",
       "|---|---|---|---|---|---|---|---|---|---|---|---|---|---|\n",
       "| 63 | 1 | 1 | 145 | 233 | 1 | 2 | 150 | 0 | 2.3 | 3 | 0.0 | 6.0 | 0 |\n",
       "| 67 | 1 | 4 | 160 | 286 | 0 | 2 | 108 | 1 | 1.5 | 2 | 3.0 | 3.0 | 2 |\n",
       "| 67 | 1 | 4 | 120 | 229 | 0 | 2 | 129 | 1 | 2.6 | 2 | 2.0 | 7.0 | 1 |\n",
       "| 37 | 1 | 3 | 130 | 250 | 0 | 0 | 187 | 0 | 3.5 | 3 | 0.0 | 3.0 | 0 |\n",
       "| 41 | 0 | 2 | 130 | 204 | 0 | 2 | 172 | 0 | 1.4 | 1 | 0.0 | 3.0 | 0 |\n",
       "| 56 | 1 | 2 | 120 | 236 | 0 | 0 | 178 | 0 | 0.8 | 1 | 0.0 | 3.0 | 0 |\n",
       "\n"
      ],
      "text/plain": [
       "  X1 X2 X3 X4  X5  X6 X7 X8  X9 X10 X11 X12 X13 X14\n",
       "1 63 1  1  145 233 1  2  150 0  2.3 3   0.0 6.0 0  \n",
       "2 67 1  4  160 286 0  2  108 1  1.5 2   3.0 3.0 2  \n",
       "3 67 1  4  120 229 0  2  129 1  2.6 2   2.0 7.0 1  \n",
       "4 37 1  3  130 250 0  0  187 0  3.5 3   0.0 3.0 0  \n",
       "5 41 0  2  130 204 0  2  172 0  1.4 1   0.0 3.0 0  \n",
       "6 56 1  2  120 236 0  0  178 0  0.8 1   0.0 3.0 0  "
      ]
     },
     "metadata": {},
     "output_type": "display_data"
    }
   ],
   "source": [
    "# reading the data from data/process.cleveland.data\n",
    "heart_data <- read_delim(\"data/processed.cleveland.data\", delim=\",\", col_names = FALSE)\n",
    "\n",
    "head(heart_data)"
   ]
  },
  {
   "cell_type": "markdown",
   "id": "28918c09-574a-413b-ba0b-5faed260d61f",
   "metadata": {},
   "source": [
    "##### Cleaning and Tidying the Heart Disease Data"
   ]
  },
  {
   "cell_type": "markdown",
   "id": "e19adcbf-f975-4c7c-bde4-5bcc40197ab2",
   "metadata": {},
   "source": [
    "##### Setting the Seed"
   ]
  },
  {
   "cell_type": "code",
   "execution_count": 54,
   "id": "5c99f705-62fe-4951-9603-bb12226d9ca7",
   "metadata": {
    "tags": []
   },
   "outputs": [],
   "source": [
    "# setting the seed to 1\n",
    "set.seed(1)"
   ]
  },
  {
   "cell_type": "markdown",
   "id": "0af7afaa-0143-4308-b359-9a7caeea2b8b",
   "metadata": {},
   "source": [
    "##### Renaming the Columns"
   ]
  },
  {
   "cell_type": "code",
   "execution_count": 55,
   "id": "dc639e57-e6f6-453f-ba41-48884813dc93",
   "metadata": {
    "tags": []
   },
   "outputs": [
    {
     "data": {
      "text/html": [
       "<table class=\"dataframe\">\n",
       "<caption>A tibble: 6 × 14</caption>\n",
       "<thead>\n",
       "\t<tr><th scope=col>age</th><th scope=col>sex</th><th scope=col>cp</th><th scope=col>trestbps</th><th scope=col>chol</th><th scope=col>fbs</th><th scope=col>restecg</th><th scope=col>thalach</th><th scope=col>exang</th><th scope=col>oldpeak</th><th scope=col>slope</th><th scope=col>ca</th><th scope=col>thal</th><th scope=col>num</th></tr>\n",
       "\t<tr><th scope=col>&lt;dbl&gt;</th><th scope=col>&lt;dbl&gt;</th><th scope=col>&lt;dbl&gt;</th><th scope=col>&lt;dbl&gt;</th><th scope=col>&lt;dbl&gt;</th><th scope=col>&lt;dbl&gt;</th><th scope=col>&lt;dbl&gt;</th><th scope=col>&lt;dbl&gt;</th><th scope=col>&lt;dbl&gt;</th><th scope=col>&lt;dbl&gt;</th><th scope=col>&lt;dbl&gt;</th><th scope=col>&lt;chr&gt;</th><th scope=col>&lt;chr&gt;</th><th scope=col>&lt;dbl&gt;</th></tr>\n",
       "</thead>\n",
       "<tbody>\n",
       "\t<tr><td>63</td><td>1</td><td>1</td><td>145</td><td>233</td><td>1</td><td>2</td><td>150</td><td>0</td><td>2.3</td><td>3</td><td>0.0</td><td>6.0</td><td>0</td></tr>\n",
       "\t<tr><td>67</td><td>1</td><td>4</td><td>160</td><td>286</td><td>0</td><td>2</td><td>108</td><td>1</td><td>1.5</td><td>2</td><td>3.0</td><td>3.0</td><td>2</td></tr>\n",
       "\t<tr><td>67</td><td>1</td><td>4</td><td>120</td><td>229</td><td>0</td><td>2</td><td>129</td><td>1</td><td>2.6</td><td>2</td><td>2.0</td><td>7.0</td><td>1</td></tr>\n",
       "\t<tr><td>37</td><td>1</td><td>3</td><td>130</td><td>250</td><td>0</td><td>0</td><td>187</td><td>0</td><td>3.5</td><td>3</td><td>0.0</td><td>3.0</td><td>0</td></tr>\n",
       "\t<tr><td>41</td><td>0</td><td>2</td><td>130</td><td>204</td><td>0</td><td>2</td><td>172</td><td>0</td><td>1.4</td><td>1</td><td>0.0</td><td>3.0</td><td>0</td></tr>\n",
       "\t<tr><td>56</td><td>1</td><td>2</td><td>120</td><td>236</td><td>0</td><td>0</td><td>178</td><td>0</td><td>0.8</td><td>1</td><td>0.0</td><td>3.0</td><td>0</td></tr>\n",
       "</tbody>\n",
       "</table>\n"
      ],
      "text/latex": [
       "A tibble: 6 × 14\n",
       "\\begin{tabular}{llllllllllllll}\n",
       " age & sex & cp & trestbps & chol & fbs & restecg & thalach & exang & oldpeak & slope & ca & thal & num\\\\\n",
       " <dbl> & <dbl> & <dbl> & <dbl> & <dbl> & <dbl> & <dbl> & <dbl> & <dbl> & <dbl> & <dbl> & <chr> & <chr> & <dbl>\\\\\n",
       "\\hline\n",
       "\t 63 & 1 & 1 & 145 & 233 & 1 & 2 & 150 & 0 & 2.3 & 3 & 0.0 & 6.0 & 0\\\\\n",
       "\t 67 & 1 & 4 & 160 & 286 & 0 & 2 & 108 & 1 & 1.5 & 2 & 3.0 & 3.0 & 2\\\\\n",
       "\t 67 & 1 & 4 & 120 & 229 & 0 & 2 & 129 & 1 & 2.6 & 2 & 2.0 & 7.0 & 1\\\\\n",
       "\t 37 & 1 & 3 & 130 & 250 & 0 & 0 & 187 & 0 & 3.5 & 3 & 0.0 & 3.0 & 0\\\\\n",
       "\t 41 & 0 & 2 & 130 & 204 & 0 & 2 & 172 & 0 & 1.4 & 1 & 0.0 & 3.0 & 0\\\\\n",
       "\t 56 & 1 & 2 & 120 & 236 & 0 & 0 & 178 & 0 & 0.8 & 1 & 0.0 & 3.0 & 0\\\\\n",
       "\\end{tabular}\n"
      ],
      "text/markdown": [
       "\n",
       "A tibble: 6 × 14\n",
       "\n",
       "| age &lt;dbl&gt; | sex &lt;dbl&gt; | cp &lt;dbl&gt; | trestbps &lt;dbl&gt; | chol &lt;dbl&gt; | fbs &lt;dbl&gt; | restecg &lt;dbl&gt; | thalach &lt;dbl&gt; | exang &lt;dbl&gt; | oldpeak &lt;dbl&gt; | slope &lt;dbl&gt; | ca &lt;chr&gt; | thal &lt;chr&gt; | num &lt;dbl&gt; |\n",
       "|---|---|---|---|---|---|---|---|---|---|---|---|---|---|\n",
       "| 63 | 1 | 1 | 145 | 233 | 1 | 2 | 150 | 0 | 2.3 | 3 | 0.0 | 6.0 | 0 |\n",
       "| 67 | 1 | 4 | 160 | 286 | 0 | 2 | 108 | 1 | 1.5 | 2 | 3.0 | 3.0 | 2 |\n",
       "| 67 | 1 | 4 | 120 | 229 | 0 | 2 | 129 | 1 | 2.6 | 2 | 2.0 | 7.0 | 1 |\n",
       "| 37 | 1 | 3 | 130 | 250 | 0 | 0 | 187 | 0 | 3.5 | 3 | 0.0 | 3.0 | 0 |\n",
       "| 41 | 0 | 2 | 130 | 204 | 0 | 2 | 172 | 0 | 1.4 | 1 | 0.0 | 3.0 | 0 |\n",
       "| 56 | 1 | 2 | 120 | 236 | 0 | 0 | 178 | 0 | 0.8 | 1 | 0.0 | 3.0 | 0 |\n",
       "\n"
      ],
      "text/plain": [
       "  age sex cp trestbps chol fbs restecg thalach exang oldpeak slope ca  thal num\n",
       "1 63  1   1  145      233  1   2       150     0     2.3     3     0.0 6.0  0  \n",
       "2 67  1   4  160      286  0   2       108     1     1.5     2     3.0 3.0  2  \n",
       "3 67  1   4  120      229  0   2       129     1     2.6     2     2.0 7.0  1  \n",
       "4 37  1   3  130      250  0   0       187     0     3.5     3     0.0 3.0  0  \n",
       "5 41  0   2  130      204  0   2       172     0     1.4     1     0.0 3.0  0  \n",
       "6 56  1   2  120      236  0   0       178     0     0.8     1     0.0 3.0  0  "
      ]
     },
     "metadata": {},
     "output_type": "display_data"
    }
   ],
   "source": [
    "heart_data <- rename(heart_data,\n",
    "                    age = X1,\n",
    "                    sex = X2,\n",
    "                    cp = X3,\n",
    "                    trestbps = X4,\n",
    "                    chol = X5,\n",
    "                    fbs = X6,\n",
    "                    restecg = X7,\n",
    "                    thalach = X8,\n",
    "                    exang = X9,\n",
    "                    oldpeak = X10,\n",
    "                    slope = X11,\n",
    "                    ca = X12,\n",
    "                    thal = X13,\n",
    "                    num = X14)\n",
    "head(heart_data)"
   ]
  },
  {
   "cell_type": "markdown",
   "id": "26dbde8f-b22a-417f-af4b-0d6b1ca91e9d",
   "metadata": {},
   "source": [
    "EXPLAIN FIGURE"
   ]
  },
  {
   "cell_type": "markdown",
   "id": "5179f434-b7e6-4a33-9a41-67e01aee5520",
   "metadata": {},
   "source": [
    "##### Removing \"?\" from the data and replacing it with \"NA\""
   ]
  },
  {
   "cell_type": "code",
   "execution_count": 47,
   "id": "73d67b3a-7710-4fe9-8ade-46659f4904d9",
   "metadata": {
    "tags": []
   },
   "outputs": [],
   "source": [
    "# removing \"?\" from data and replacing it with NA\n",
    "\n",
    "heart_data[heart_data == \"?\"] <- NA"
   ]
  },
  {
   "cell_type": "markdown",
   "id": "efcd5938-fe75-4f7f-9eb6-17247d3848f4",
   "metadata": {},
   "source": [
    "##### Adding a New Column "
   ]
  },
  {
   "cell_type": "markdown",
   "id": "968e458f-be88-4b83-b008-968f814781ea",
   "metadata": {
    "tags": []
   },
   "source": [
    "Num needs to be true or false (presence of disease or no presence of disease). Renaming to Diagnosis where 0 means no disease and 1 means disease"
   ]
  },
  {
   "cell_type": "code",
   "execution_count": 76,
   "id": "9886f97c-2568-4a58-83bf-4beacfe086ee",
   "metadata": {},
   "outputs": [],
   "source": [
    "# adding diagnosis column and setting the values to 'TRUE' if the cell value is > 0 or 'FALSE' if the cell value is 0\n",
    "\n",
    "heart_data <- heart_data |>\n",
    "    mutate(diagnosis = as.factor(ifelse(is.na(num), NA, (num > 0))))"
   ]
  },
  {
   "cell_type": "markdown",
   "id": "8559818b-1bc5-4a7e-a94a-d5ec7632f398",
   "metadata": {},
   "source": [
    "##### Switching to Factors"
   ]
  },
  {
   "cell_type": "code",
   "execution_count": 75,
   "id": "8cd1d7be-12f1-4157-b514-c4085aa024a5",
   "metadata": {
    "tags": []
   },
   "outputs": [
    {
     "data": {
      "text/html": [
       "<table class=\"dataframe\">\n",
       "<caption>A tibble: 6 × 15</caption>\n",
       "<thead>\n",
       "\t<tr><th scope=col>age</th><th scope=col>sex</th><th scope=col>cp</th><th scope=col>trestbps</th><th scope=col>chol</th><th scope=col>fbs</th><th scope=col>restecg</th><th scope=col>thalach</th><th scope=col>exang</th><th scope=col>oldpeak</th><th scope=col>slope</th><th scope=col>ca</th><th scope=col>thal</th><th scope=col>num</th><th scope=col>diagnosis</th></tr>\n",
       "\t<tr><th scope=col>&lt;dbl&gt;</th><th scope=col>&lt;fct&gt;</th><th scope=col>&lt;fct&gt;</th><th scope=col>&lt;dbl&gt;</th><th scope=col>&lt;dbl&gt;</th><th scope=col>&lt;fct&gt;</th><th scope=col>&lt;fct&gt;</th><th scope=col>&lt;dbl&gt;</th><th scope=col>&lt;fct&gt;</th><th scope=col>&lt;dbl&gt;</th><th scope=col>&lt;fct&gt;</th><th scope=col>&lt;fct&gt;</th><th scope=col>&lt;fct&gt;</th><th scope=col>&lt;fct&gt;</th><th scope=col>&lt;fct&gt;</th></tr>\n",
       "</thead>\n",
       "<tbody>\n",
       "\t<tr><td>63</td><td>M</td><td>1</td><td>145</td><td>233</td><td>1</td><td>2</td><td>150</td><td>0</td><td>2.3</td><td>3</td><td>0.0</td><td>6.0</td><td>0</td><td>FALSE</td></tr>\n",
       "\t<tr><td>67</td><td>M</td><td>4</td><td>160</td><td>286</td><td>0</td><td>2</td><td>108</td><td>1</td><td>1.5</td><td>2</td><td>3.0</td><td>3.0</td><td>2</td><td>TRUE </td></tr>\n",
       "\t<tr><td>67</td><td>M</td><td>4</td><td>120</td><td>229</td><td>0</td><td>2</td><td>129</td><td>1</td><td>2.6</td><td>2</td><td>2.0</td><td>7.0</td><td>1</td><td>TRUE </td></tr>\n",
       "\t<tr><td>37</td><td>M</td><td>3</td><td>130</td><td>250</td><td>0</td><td>0</td><td>187</td><td>0</td><td>3.5</td><td>3</td><td>0.0</td><td>3.0</td><td>0</td><td>FALSE</td></tr>\n",
       "\t<tr><td>41</td><td>F</td><td>2</td><td>130</td><td>204</td><td>0</td><td>2</td><td>172</td><td>0</td><td>1.4</td><td>1</td><td>0.0</td><td>3.0</td><td>0</td><td>FALSE</td></tr>\n",
       "\t<tr><td>56</td><td>M</td><td>2</td><td>120</td><td>236</td><td>0</td><td>0</td><td>178</td><td>0</td><td>0.8</td><td>1</td><td>0.0</td><td>3.0</td><td>0</td><td>FALSE</td></tr>\n",
       "</tbody>\n",
       "</table>\n"
      ],
      "text/latex": [
       "A tibble: 6 × 15\n",
       "\\begin{tabular}{lllllllllllllll}\n",
       " age & sex & cp & trestbps & chol & fbs & restecg & thalach & exang & oldpeak & slope & ca & thal & num & diagnosis\\\\\n",
       " <dbl> & <fct> & <fct> & <dbl> & <dbl> & <fct> & <fct> & <dbl> & <fct> & <dbl> & <fct> & <fct> & <fct> & <fct> & <fct>\\\\\n",
       "\\hline\n",
       "\t 63 & M & 1 & 145 & 233 & 1 & 2 & 150 & 0 & 2.3 & 3 & 0.0 & 6.0 & 0 & FALSE\\\\\n",
       "\t 67 & M & 4 & 160 & 286 & 0 & 2 & 108 & 1 & 1.5 & 2 & 3.0 & 3.0 & 2 & TRUE \\\\\n",
       "\t 67 & M & 4 & 120 & 229 & 0 & 2 & 129 & 1 & 2.6 & 2 & 2.0 & 7.0 & 1 & TRUE \\\\\n",
       "\t 37 & M & 3 & 130 & 250 & 0 & 0 & 187 & 0 & 3.5 & 3 & 0.0 & 3.0 & 0 & FALSE\\\\\n",
       "\t 41 & F & 2 & 130 & 204 & 0 & 2 & 172 & 0 & 1.4 & 1 & 0.0 & 3.0 & 0 & FALSE\\\\\n",
       "\t 56 & M & 2 & 120 & 236 & 0 & 0 & 178 & 0 & 0.8 & 1 & 0.0 & 3.0 & 0 & FALSE\\\\\n",
       "\\end{tabular}\n"
      ],
      "text/markdown": [
       "\n",
       "A tibble: 6 × 15\n",
       "\n",
       "| age &lt;dbl&gt; | sex &lt;fct&gt; | cp &lt;fct&gt; | trestbps &lt;dbl&gt; | chol &lt;dbl&gt; | fbs &lt;fct&gt; | restecg &lt;fct&gt; | thalach &lt;dbl&gt; | exang &lt;fct&gt; | oldpeak &lt;dbl&gt; | slope &lt;fct&gt; | ca &lt;fct&gt; | thal &lt;fct&gt; | num &lt;fct&gt; | diagnosis &lt;fct&gt; |\n",
       "|---|---|---|---|---|---|---|---|---|---|---|---|---|---|---|\n",
       "| 63 | M | 1 | 145 | 233 | 1 | 2 | 150 | 0 | 2.3 | 3 | 0.0 | 6.0 | 0 | FALSE |\n",
       "| 67 | M | 4 | 160 | 286 | 0 | 2 | 108 | 1 | 1.5 | 2 | 3.0 | 3.0 | 2 | TRUE  |\n",
       "| 67 | M | 4 | 120 | 229 | 0 | 2 | 129 | 1 | 2.6 | 2 | 2.0 | 7.0 | 1 | TRUE  |\n",
       "| 37 | M | 3 | 130 | 250 | 0 | 0 | 187 | 0 | 3.5 | 3 | 0.0 | 3.0 | 0 | FALSE |\n",
       "| 41 | F | 2 | 130 | 204 | 0 | 2 | 172 | 0 | 1.4 | 1 | 0.0 | 3.0 | 0 | FALSE |\n",
       "| 56 | M | 2 | 120 | 236 | 0 | 0 | 178 | 0 | 0.8 | 1 | 0.0 | 3.0 | 0 | FALSE |\n",
       "\n"
      ],
      "text/plain": [
       "  age sex cp trestbps chol fbs restecg thalach exang oldpeak slope ca  thal num\n",
       "1 63  M   1  145      233  1   2       150     0     2.3     3     0.0 6.0  0  \n",
       "2 67  M   4  160      286  0   2       108     1     1.5     2     3.0 3.0  2  \n",
       "3 67  M   4  120      229  0   2       129     1     2.6     2     2.0 7.0  1  \n",
       "4 37  M   3  130      250  0   0       187     0     3.5     3     0.0 3.0  0  \n",
       "5 41  F   2  130      204  0   2       172     0     1.4     1     0.0 3.0  0  \n",
       "6 56  M   2  120      236  0   0       178     0     0.8     1     0.0 3.0  0  \n",
       "  diagnosis\n",
       "1 FALSE    \n",
       "2 TRUE     \n",
       "3 TRUE     \n",
       "4 FALSE    \n",
       "5 FALSE    \n",
       "6 FALSE    "
      ]
     },
     "metadata": {},
     "output_type": "display_data"
    }
   ],
   "source": [
    "# switching column types to factors\n",
    "\n",
    "heart_clean <- heart_data |>\n",
    "    mutate(sex = as.factor(sex)) |>\n",
    "    mutate(sex = fct_recode(sex, \"M\" = \"1\", \"F\" = \"0\")) |>\n",
    "    mutate(cp = as.factor(cp)) |>\n",
    "    mutate(fbs = as.factor(fbs)) |>\n",
    "    mutate(restecg = as.factor(restecg)) |>\n",
    "    mutate(exang = as.factor(exang)) |>\n",
    "    mutate(thal = as.factor(thal)) |>\n",
    "    mutate(ca = as.factor(ca)) |>\n",
    "    mutate(slope = as.factor(slope)) |>\n",
    "    mutate(num = as.factor(num))\n",
    "head(heart_clean)"
   ]
  },
  {
   "cell_type": "markdown",
   "id": "cb94c5c2-bd6d-4e56-a696-022e3c8b69fc",
   "metadata": {},
   "source": [
    "EXPLAIN FIGURE"
   ]
  },
  {
   "cell_type": "markdown",
   "id": "cf0cf4c2-e6ea-4b5e-8b48-a7c0dcfd4dc7",
   "metadata": {},
   "source": [
    "##### Creating Training and Testing Datasets"
   ]
  },
  {
   "cell_type": "markdown",
   "id": "e1c31dce-a361-4086-b0cf-5f3ae600354e",
   "metadata": {},
   "source": [
    "ADD TEXT EXPLAINING"
   ]
  },
  {
   "cell_type": "code",
   "execution_count": 79,
   "id": "3850ffbf-6bcc-4561-a687-adfa1de8e18a",
   "metadata": {
    "tags": []
   },
   "outputs": [
    {
     "data": {
      "text/html": [
       "<table class=\"dataframe\">\n",
       "<caption>A tibble: 6 × 15</caption>\n",
       "<thead>\n",
       "\t<tr><th scope=col>age</th><th scope=col>sex</th><th scope=col>cp</th><th scope=col>trestbps</th><th scope=col>chol</th><th scope=col>fbs</th><th scope=col>restecg</th><th scope=col>thalach</th><th scope=col>exang</th><th scope=col>oldpeak</th><th scope=col>slope</th><th scope=col>ca</th><th scope=col>thal</th><th scope=col>num</th><th scope=col>diagnosis</th></tr>\n",
       "\t<tr><th scope=col>&lt;dbl&gt;</th><th scope=col>&lt;fct&gt;</th><th scope=col>&lt;fct&gt;</th><th scope=col>&lt;dbl&gt;</th><th scope=col>&lt;dbl&gt;</th><th scope=col>&lt;fct&gt;</th><th scope=col>&lt;fct&gt;</th><th scope=col>&lt;dbl&gt;</th><th scope=col>&lt;fct&gt;</th><th scope=col>&lt;dbl&gt;</th><th scope=col>&lt;fct&gt;</th><th scope=col>&lt;fct&gt;</th><th scope=col>&lt;fct&gt;</th><th scope=col>&lt;fct&gt;</th><th scope=col>&lt;fct&gt;</th></tr>\n",
       "</thead>\n",
       "<tbody>\n",
       "\t<tr><td>63</td><td>M</td><td>1</td><td>145</td><td>233</td><td>1</td><td>2</td><td>150</td><td>0</td><td>2.3</td><td>3</td><td>0.0</td><td>6.0</td><td>0</td><td>FALSE</td></tr>\n",
       "\t<tr><td>37</td><td>M</td><td>3</td><td>130</td><td>250</td><td>0</td><td>0</td><td>187</td><td>0</td><td>3.5</td><td>3</td><td>0.0</td><td>3.0</td><td>0</td><td>FALSE</td></tr>\n",
       "\t<tr><td>41</td><td>F</td><td>2</td><td>130</td><td>204</td><td>0</td><td>2</td><td>172</td><td>0</td><td>1.4</td><td>1</td><td>0.0</td><td>3.0</td><td>0</td><td>FALSE</td></tr>\n",
       "\t<tr><td>56</td><td>M</td><td>2</td><td>120</td><td>236</td><td>0</td><td>0</td><td>178</td><td>0</td><td>0.8</td><td>1</td><td>0.0</td><td>3.0</td><td>0</td><td>FALSE</td></tr>\n",
       "\t<tr><td>57</td><td>F</td><td>4</td><td>120</td><td>354</td><td>0</td><td>0</td><td>163</td><td>1</td><td>0.6</td><td>1</td><td>0.0</td><td>3.0</td><td>0</td><td>FALSE</td></tr>\n",
       "\t<tr><td>57</td><td>M</td><td>4</td><td>140</td><td>192</td><td>0</td><td>0</td><td>148</td><td>0</td><td>0.4</td><td>2</td><td>0.0</td><td>6.0</td><td>0</td><td>FALSE</td></tr>\n",
       "</tbody>\n",
       "</table>\n"
      ],
      "text/latex": [
       "A tibble: 6 × 15\n",
       "\\begin{tabular}{lllllllllllllll}\n",
       " age & sex & cp & trestbps & chol & fbs & restecg & thalach & exang & oldpeak & slope & ca & thal & num & diagnosis\\\\\n",
       " <dbl> & <fct> & <fct> & <dbl> & <dbl> & <fct> & <fct> & <dbl> & <fct> & <dbl> & <fct> & <fct> & <fct> & <fct> & <fct>\\\\\n",
       "\\hline\n",
       "\t 63 & M & 1 & 145 & 233 & 1 & 2 & 150 & 0 & 2.3 & 3 & 0.0 & 6.0 & 0 & FALSE\\\\\n",
       "\t 37 & M & 3 & 130 & 250 & 0 & 0 & 187 & 0 & 3.5 & 3 & 0.0 & 3.0 & 0 & FALSE\\\\\n",
       "\t 41 & F & 2 & 130 & 204 & 0 & 2 & 172 & 0 & 1.4 & 1 & 0.0 & 3.0 & 0 & FALSE\\\\\n",
       "\t 56 & M & 2 & 120 & 236 & 0 & 0 & 178 & 0 & 0.8 & 1 & 0.0 & 3.0 & 0 & FALSE\\\\\n",
       "\t 57 & F & 4 & 120 & 354 & 0 & 0 & 163 & 1 & 0.6 & 1 & 0.0 & 3.0 & 0 & FALSE\\\\\n",
       "\t 57 & M & 4 & 140 & 192 & 0 & 0 & 148 & 0 & 0.4 & 2 & 0.0 & 6.0 & 0 & FALSE\\\\\n",
       "\\end{tabular}\n"
      ],
      "text/markdown": [
       "\n",
       "A tibble: 6 × 15\n",
       "\n",
       "| age &lt;dbl&gt; | sex &lt;fct&gt; | cp &lt;fct&gt; | trestbps &lt;dbl&gt; | chol &lt;dbl&gt; | fbs &lt;fct&gt; | restecg &lt;fct&gt; | thalach &lt;dbl&gt; | exang &lt;fct&gt; | oldpeak &lt;dbl&gt; | slope &lt;fct&gt; | ca &lt;fct&gt; | thal &lt;fct&gt; | num &lt;fct&gt; | diagnosis &lt;fct&gt; |\n",
       "|---|---|---|---|---|---|---|---|---|---|---|---|---|---|---|\n",
       "| 63 | M | 1 | 145 | 233 | 1 | 2 | 150 | 0 | 2.3 | 3 | 0.0 | 6.0 | 0 | FALSE |\n",
       "| 37 | M | 3 | 130 | 250 | 0 | 0 | 187 | 0 | 3.5 | 3 | 0.0 | 3.0 | 0 | FALSE |\n",
       "| 41 | F | 2 | 130 | 204 | 0 | 2 | 172 | 0 | 1.4 | 1 | 0.0 | 3.0 | 0 | FALSE |\n",
       "| 56 | M | 2 | 120 | 236 | 0 | 0 | 178 | 0 | 0.8 | 1 | 0.0 | 3.0 | 0 | FALSE |\n",
       "| 57 | F | 4 | 120 | 354 | 0 | 0 | 163 | 1 | 0.6 | 1 | 0.0 | 3.0 | 0 | FALSE |\n",
       "| 57 | M | 4 | 140 | 192 | 0 | 0 | 148 | 0 | 0.4 | 2 | 0.0 | 6.0 | 0 | FALSE |\n",
       "\n"
      ],
      "text/plain": [
       "  age sex cp trestbps chol fbs restecg thalach exang oldpeak slope ca  thal num\n",
       "1 63  M   1  145      233  1   2       150     0     2.3     3     0.0 6.0  0  \n",
       "2 37  M   3  130      250  0   0       187     0     3.5     3     0.0 3.0  0  \n",
       "3 41  F   2  130      204  0   2       172     0     1.4     1     0.0 3.0  0  \n",
       "4 56  M   2  120      236  0   0       178     0     0.8     1     0.0 3.0  0  \n",
       "5 57  F   4  120      354  0   0       163     1     0.6     1     0.0 3.0  0  \n",
       "6 57  M   4  140      192  0   0       148     0     0.4     2     0.0 6.0  0  \n",
       "  diagnosis\n",
       "1 FALSE    \n",
       "2 FALSE    \n",
       "3 FALSE    \n",
       "4 FALSE    \n",
       "5 FALSE    \n",
       "6 FALSE    "
      ]
     },
     "metadata": {},
     "output_type": "display_data"
    }
   ],
   "source": [
    "# splitting dataframe into training and testing datasets\n",
    "\n",
    "heart_split <- initial_split(heart_clean, prop = 0.75, strata = num)\n",
    "heart_training <- training(heart_split)\n",
    "heart_testing <- testing(heart_split)\n",
    "\n",
    "head(heart_training)"
   ]
  },
  {
   "cell_type": "markdown",
   "id": "277e4d44-da60-4662-b388-75fdc8e92ee9",
   "metadata": {},
   "source": [
    "EXPLAIN FIGURE"
   ]
  },
  {
   "cell_type": "markdown",
   "id": "94f578e9-1c81-4f89-8e45-2ca4a5a38a67",
   "metadata": {},
   "source": [
    "#### Summarizing the Data"
   ]
  },
  {
   "cell_type": "markdown",
   "id": "673d1cd4-dc97-4411-86f1-61be3fd0ce39",
   "metadata": {},
   "source": [
    "EXPLAIN WHY WE ARE DOING THIS"
   ]
  },
  {
   "cell_type": "code",
   "execution_count": 78,
   "id": "2013413c-2ee7-408c-a967-233fa64ac2c9",
   "metadata": {
    "tags": []
   },
   "outputs": [
    {
     "name": "stderr",
     "output_type": "stream",
     "text": [
      "\u001b[1m\u001b[22mJoining with `by = join_by(diagnosis)`\n",
      "\u001b[1m\u001b[22mJoining with `by = join_by(diagnosis)`\n"
     ]
    },
    {
     "data": {
      "text/html": [
       "<table class=\"dataframe\">\n",
       "<caption>A tibble: 2 × 11</caption>\n",
       "<thead>\n",
       "\t<tr><th scope=col>diagnosis</th><th scope=col>num_of_patients</th><th scope=col>percentage</th><th scope=col>min_age</th><th scope=col>max_age</th><th scope=col>mean_age</th><th scope=col>min_chol</th><th scope=col>max_chol</th><th scope=col>mean_chol</th><th scope=col>male</th><th scope=col>female</th></tr>\n",
       "\t<tr><th scope=col>&lt;fct&gt;</th><th scope=col>&lt;int&gt;</th><th scope=col>&lt;dbl&gt;</th><th scope=col>&lt;dbl&gt;</th><th scope=col>&lt;dbl&gt;</th><th scope=col>&lt;dbl&gt;</th><th scope=col>&lt;dbl&gt;</th><th scope=col>&lt;dbl&gt;</th><th scope=col>&lt;dbl&gt;</th><th scope=col>&lt;int&gt;</th><th scope=col>&lt;int&gt;</th></tr>\n",
       "</thead>\n",
       "<tbody>\n",
       "\t<tr><td>FALSE</td><td>124</td><td>54.86726</td><td>29</td><td>76</td><td>52.68548</td><td>126</td><td>564</td><td>244.2903</td><td>70</td><td>54</td></tr>\n",
       "\t<tr><td>TRUE </td><td>102</td><td>45.13274</td><td>35</td><td>77</td><td>56.48039</td><td>131</td><td>409</td><td>249.3627</td><td>87</td><td>15</td></tr>\n",
       "</tbody>\n",
       "</table>\n"
      ],
      "text/latex": [
       "A tibble: 2 × 11\n",
       "\\begin{tabular}{lllllllllll}\n",
       " diagnosis & num\\_of\\_patients & percentage & min\\_age & max\\_age & mean\\_age & min\\_chol & max\\_chol & mean\\_chol & male & female\\\\\n",
       " <fct> & <int> & <dbl> & <dbl> & <dbl> & <dbl> & <dbl> & <dbl> & <dbl> & <int> & <int>\\\\\n",
       "\\hline\n",
       "\t FALSE & 124 & 54.86726 & 29 & 76 & 52.68548 & 126 & 564 & 244.2903 & 70 & 54\\\\\n",
       "\t TRUE  & 102 & 45.13274 & 35 & 77 & 56.48039 & 131 & 409 & 249.3627 & 87 & 15\\\\\n",
       "\\end{tabular}\n"
      ],
      "text/markdown": [
       "\n",
       "A tibble: 2 × 11\n",
       "\n",
       "| diagnosis &lt;fct&gt; | num_of_patients &lt;int&gt; | percentage &lt;dbl&gt; | min_age &lt;dbl&gt; | max_age &lt;dbl&gt; | mean_age &lt;dbl&gt; | min_chol &lt;dbl&gt; | max_chol &lt;dbl&gt; | mean_chol &lt;dbl&gt; | male &lt;int&gt; | female &lt;int&gt; |\n",
       "|---|---|---|---|---|---|---|---|---|---|---|\n",
       "| FALSE | 124 | 54.86726 | 29 | 76 | 52.68548 | 126 | 564 | 244.2903 | 70 | 54 |\n",
       "| TRUE  | 102 | 45.13274 | 35 | 77 | 56.48039 | 131 | 409 | 249.3627 | 87 | 15 |\n",
       "\n"
      ],
      "text/plain": [
       "  diagnosis num_of_patients percentage min_age max_age mean_age min_chol\n",
       "1 FALSE     124             54.86726   29      76      52.68548 126     \n",
       "2 TRUE      102             45.13274   35      77      56.48039 131     \n",
       "  max_chol mean_chol male female\n",
       "1 564      244.2903  70   54    \n",
       "2 409      249.3627  87   15    "
      ]
     },
     "metadata": {},
     "output_type": "display_data"
    }
   ],
   "source": [
    "\n",
    "# number of male patients in training dataset\n",
    "male_count <- heart_training |> filter(sex == \"M\") |> group_by(diagnosis) |> summarize(male = n()) \n",
    "\n",
    "#number of female patients in training dataset\n",
    "female_count <- heart_training |> filter(sex == \"F\") |> group_by(diagnosis) |> summarize(female = n()) \n",
    "\n",
    "# joining the male and female tables\n",
    "sex_join <- full_join(male_count, female_count)\n",
    "\n",
    "# getting the patient, count, percentage, min, max, count of male and female patients and mean of each predictor\n",
    "num_obs <- nrow(heart_training)\n",
    "heart_summary <- heart_training |> \n",
    "    group_by(diagnosis) |>\n",
    "    summarize(\n",
    "        num_of_patients = n(),\n",
    "        percentage = n()/num_obs * 100,\n",
    "        min_age = min(age),\n",
    "        max_age = max(age),\n",
    "        mean_age = mean(age),\n",
    "        min_chol = min(chol),\n",
    "        max_chol = max(chol),\n",
    "        mean_chol = mean(chol)) \n",
    "\n",
    "heart_summary <- full_join(heart_summary, sex_join)\n",
    "heart_summary"
   ]
  },
  {
   "cell_type": "code",
   "execution_count": null,
   "id": "910d07ee-b016-4b4f-80be-2d4c6406706f",
   "metadata": {},
   "outputs": [],
   "source": [
    "FIGURE EXPLANATION"
   ]
  },
  {
   "cell_type": "markdown",
   "id": "1b92a82d-5ab5-4b91-ba06-855ac69969f6",
   "metadata": {},
   "source": []
  },
  {
   "cell_type": "markdown",
   "id": "63f840da-e9fe-484c-a33e-7c1231646e27",
   "metadata": {},
   "source": [
    "Finding Best K Value"
   ]
  },
  {
   "cell_type": "markdown",
   "id": "aac08a04-5259-4a0a-af2f-2a09d02902ed",
   "metadata": {},
   "source": [
    "Visualizing the results"
   ]
  },
  {
   "cell_type": "markdown",
   "id": "c6b0ea47-1570-40db-9328-0a4f60246c4d",
   "metadata": {},
   "source": [
    "Testing the classifier "
   ]
  }
 ],
 "metadata": {
  "kernelspec": {
   "display_name": "R",
   "language": "R",
   "name": "ir"
  },
  "language_info": {
   "codemirror_mode": "r",
   "file_extension": ".r",
   "mimetype": "text/x-r-source",
   "name": "R",
   "pygments_lexer": "r",
   "version": "4.2.2"
  }
 },
 "nbformat": 4,
 "nbformat_minor": 5
}
